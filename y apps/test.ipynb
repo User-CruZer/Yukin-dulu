{
 "cells": [
  {
   "cell_type": "code",
   "execution_count": 3,
   "metadata": {},
   "outputs": [],
   "source": [
    "\n",
    "import numpy as np\n",
    "import pandas as pd\n",
    "import tensorflow as tf\n",
    "\n",
    "# Get the model\n",
    "densenetmodel = tf.keras.models.load_model(r'C:\\Users\\USER\\Documents\\GitHub\\Yukin-dulu\\code\\model\\DenseNet121_final_model2.keras')\n",
    "incv3model = tf.keras.models.load_model(r'C:\\Users\\USER\\Documents\\GitHub\\Yukin-dulu\\code\\model\\InceptionV3_final_model2.keras')\n",
    "\n",
    "# Predicted probability from the weights\n",
    "wDense=0.8500000000000001\n",
    "wIncV3=0.1499999999999999\n",
    "classes = ['Benign', 'Malignant']"
   ]
  },
  {
   "cell_type": "code",
   "execution_count": 7,
   "metadata": {},
   "outputs": [],
   "source": [
    "selected_image_path = r\"C:\\Users\\USER\\Documents\\GitHub\\Yukin-dulu\\y apps\\example1.jpeg\""
   ]
  },
  {
   "cell_type": "code",
   "execution_count": 9,
   "metadata": {},
   "outputs": [
    {
     "name": "stdout",
     "output_type": "stream",
     "text": [
      "\u001b[1m1/1\u001b[0m \u001b[32m━━━━━━━━━━━━━━━━━━━━\u001b[0m\u001b[37m\u001b[0m \u001b[1m0s\u001b[0m 138ms/step\n",
      "\u001b[1m1/1\u001b[0m \u001b[32m━━━━━━━━━━━━━━━━━━━━\u001b[0m\u001b[37m\u001b[0m \u001b[1m0s\u001b[0m 120ms/step\n"
     ]
    }
   ],
   "source": [
    "# Load the image with the expected target size\n",
    "image = tf.keras.preprocessing.image.load_img(selected_image_path, target_size=(224, 224))  # Adjust size based on your model's input\n",
    "\n",
    "# Convert the image to a numpy array\n",
    "image_array = tf.keras.preprocessing.image.img_to_array(image)\n",
    "\n",
    "# Normalize the pixel values to [0, 1] (if your model requires it)\n",
    "image_array = image_array / 255.0\n",
    "\n",
    "# Add a batch dimension (the model expects inputs as a batch of images)\n",
    "image_array = tf.expand_dims(image_array, axis=0)\n",
    "\n",
    "pred_densenet = densenetmodel.predict(image_array)\n",
    "pred_densenet = pred_densenet[:, 1]\n",
    "\n",
    "pred_incv3 = incv3model.predict(image_array)\n",
    "pred_incv3 = pred_incv3[:, 1]\n",
    "\n"
   ]
  },
  {
   "cell_type": "code",
   "execution_count": null,
   "metadata": {},
   "outputs": [
    {
     "ename": "TypeError",
     "evalue": "only integer scalar arrays can be converted to a scalar index",
     "output_type": "error",
     "traceback": [
      "\u001b[1;31m---------------------------------------------------------------------------\u001b[0m",
      "\u001b[1;31mTypeError\u001b[0m                                 Traceback (most recent call last)",
      "Cell \u001b[1;32mIn[10], line 2\u001b[0m\n\u001b[0;32m      1\u001b[0m predicted_prob_all \u001b[38;5;241m=\u001b[39m (wDense\u001b[38;5;241m*\u001b[39mpred_densenet) \u001b[38;5;241m+\u001b[39m (wIncV3\u001b[38;5;241m*\u001b[39mpred_incv3)\n\u001b[1;32m----> 2\u001b[0m predicted_class_all \u001b[38;5;241m=\u001b[39m \u001b[43mclasses\u001b[49m\u001b[43m[\u001b[49m\u001b[43mpredicted_prob_all\u001b[49m\u001b[43m \u001b[49m\u001b[38;5;241;43m>\u001b[39;49m\u001b[43m \u001b[49m\u001b[38;5;241;43m0.5\u001b[39;49m\u001b[43m]\u001b[49m\n",
      "\u001b[1;31mTypeError\u001b[0m: only integer scalar arrays can be converted to a scalar index"
     ]
    }
   ],
   "source": [
    "predicted_prob_all = (wDense*pred_densenet) + (wIncV3*pred_incv3)\n",
    "# predicted_class_all = classes[predicted_prob_all > 0.5]"
   ]
  },
  {
   "cell_type": "code",
   "execution_count": 19,
   "metadata": {},
   "outputs": [],
   "source": [
    "temp = predicted_prob_all > 0.5\n",
    "temp = temp.astype(int)"
   ]
  },
  {
   "cell_type": "code",
   "execution_count": 20,
   "metadata": {},
   "outputs": [],
   "source": [
    "predicted_class_all = classes[temp[0]]"
   ]
  },
  {
   "cell_type": "code",
   "execution_count": 18,
   "metadata": {},
   "outputs": [
    {
     "data": {
      "text/plain": [
       "'Benign'"
      ]
     },
     "execution_count": 18,
     "metadata": {},
     "output_type": "execute_result"
    }
   ],
   "source": [
    "predicted_class_all"
   ]
  }
 ],
 "metadata": {
  "kernelspec": {
   "display_name": "Python 3",
   "language": "python",
   "name": "python3"
  },
  "language_info": {
   "codemirror_mode": {
    "name": "ipython",
    "version": 3
   },
   "file_extension": ".py",
   "mimetype": "text/x-python",
   "name": "python",
   "nbconvert_exporter": "python",
   "pygments_lexer": "ipython3",
   "version": "3.12.6"
  }
 },
 "nbformat": 4,
 "nbformat_minor": 2
}
